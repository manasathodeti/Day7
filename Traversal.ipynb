{
  "nbformat": 4,
  "nbformat_minor": 0,
  "metadata": {
    "colab": {
      "provenance": []
    },
    "kernelspec": {
      "name": "python3",
      "display_name": "Python 3"
    },
    "language_info": {
      "name": "python"
    }
  },
  "cells": [
    {
      "cell_type": "code",
      "execution_count": 3,
      "metadata": {
        "colab": {
          "base_uri": "https://localhost:8080/"
        },
        "id": "azmQXvxCcX_A",
        "outputId": "8f298c05-4c39-495e-e97d-f473794d8553"
      },
      "outputs": [
        {
          "output_type": "stream",
          "name": "stdout",
          "text": [
            "Enter the size:5\n",
            "1 2 3 4 8 12 16 15 14 13 9 5 6 7 11 10 "
          ]
        }
      ],
      "source": [
        "n=int(input(\"Enter the size:\"))\n",
        "matrix=[[1,2,3,4],[5,6,7,8],[9,10,11,12],[13,14,15,16]]\n",
        "rows=len(matrix)\n",
        "cols=len(matrix[0])\n",
        "top,left=0,0\n",
        "right,bottom=cols-1,rows-1\n",
        "while top<=bottom and left<=right:\n",
        "  for i in range(left,right+1):\n",
        "    print(matrix[top][i],end=' ')\n",
        "  top+=1\n",
        "  for i in range(top,bottom+1):\n",
        "    print(matrix[i][right],end=' ')\n",
        "  right-=1\n",
        "  for i in range(right,left-1,-1):\n",
        "    print(matrix[bottom][i],end=' ')\n",
        "  bottom-=1\n",
        "  for i in range(bottom,top-1,-1):\n",
        "    print(matrix[i][left],end=' ')\n",
        "  left+=1"
      ]
    }
  ]
}