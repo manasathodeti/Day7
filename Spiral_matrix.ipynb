{
  "nbformat": 4,
  "nbformat_minor": 0,
  "metadata": {
    "colab": {
      "provenance": []
    },
    "kernelspec": {
      "name": "python3",
      "display_name": "Python 3"
    },
    "language_info": {
      "name": "python"
    }
  },
  "cells": [
    {
      "cell_type": "code",
      "execution_count": 3,
      "metadata": {
        "colab": {
          "base_uri": "https://localhost:8080/"
        },
        "id": "nEuQbkkdMckf",
        "outputId": "7de7ad4d-b516-451b-be77-c26297c04b3d"
      },
      "outputs": [
        {
          "output_type": "stream",
          "name": "stdout",
          "text": [
            "Enter the size:5\n",
            "  1   2   3   4   5 \n",
            " 16  17  18  19   6 \n",
            " 15  24  25  20   7 \n",
            " 14  23  22  21   8 \n",
            " 13  12  11  10   9 \n"
          ]
        }
      ],
      "source": [
        "n=int(input(\"Enter the size:\"))\n",
        "matrix=[[0]*n for _ in range(n)]\n",
        "top,left=0,0\n",
        "right,bottom=n-1,n-1\n",
        "num=1\n",
        "while top<=bottom and left<=right:\n",
        "  for i in range(left,right+1):\n",
        "    matrix[top][i]=num\n",
        "    num+=1\n",
        "  top+=1\n",
        "  for i in range(top,bottom+1):\n",
        "    matrix[i][right]=num\n",
        "    num+=1\n",
        "  right-=1\n",
        "  for i in range(right,left-1,-1):\n",
        "    matrix[bottom][i]=num\n",
        "    num+=1\n",
        "  bottom-=1\n",
        "  for i in range(bottom,top-1,-1):\n",
        "    matrix[i][left]=num\n",
        "    num+=1\n",
        "  left+=1\n",
        "for row in matrix:\n",
        "  for val in row:\n",
        "    print(f\"{val:3}\",end=' ')\n",
        "  print()"
      ]
    }
  ]
}