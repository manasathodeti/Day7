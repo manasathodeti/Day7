{
  "nbformat": 4,
  "nbformat_minor": 0,
  "metadata": {
    "colab": {
      "provenance": [],
      "authorship_tag": "ABX9TyNPcrOhpelUzeSt7Q2XtdLz",
      "include_colab_link": true
    },
    "kernelspec": {
      "name": "python3",
      "display_name": "Python 3"
    },
    "language_info": {
      "name": "python"
    }
  },
  "cells": [
    {
      "cell_type": "markdown",
      "metadata": {
        "id": "view-in-github",
        "colab_type": "text"
      },
      "source": [
        "<a href=\"https://colab.research.google.com/github/manasathodeti/Day7/blob/main/Alphabet%20matrix.ipynb\" target=\"_parent\"><img src=\"https://colab.research.google.com/assets/colab-badge.svg\" alt=\"Open In Colab\"/></a>"
      ]
    },
    {
      "cell_type": "code",
      "execution_count": 4,
      "metadata": {
        "colab": {
          "base_uri": "https://localhost:8080/"
        },
        "id": "5WtKguuHhukq",
        "outputId": "ae94fbf5-5411-4884-9f73-dee01b7e5d23"
      },
      "outputs": [
        {
          "output_type": "stream",
          "name": "stdout",
          "text": [
            "Enter the size:5\n",
            "A  B  C  D  E  \n",
            "P  Q  R  S  F  \n",
            "O  X  Y  T  G  \n",
            "N  W  V  U  H  \n",
            "M  L  K  J  I  \n"
          ]
        }
      ],
      "source": [
        "n=int(input(\"Enter the size:\"))\n",
        "matrix=[[' ']*n for _ in range(n)]\n",
        "ch=65\n",
        "top,left=0,0\n",
        "right,bottom=n-1,n-1\n",
        "while top<=bottom and left<=right:\n",
        "  for i in range(left,right+1):\n",
        "   matrix[top][i]=chr(ch)\n",
        "   ch+=1\n",
        "   '''if ch>90:\n",
        "       ch=65'''\n",
        "  top+=1\n",
        "  for i in range(top,bottom+1):\n",
        "   matrix[i][right]=chr(ch)\n",
        "   ch+=1\n",
        "   '''if ch>90:\n",
        "       ch=65'''\n",
        "  right-=1\n",
        "  for i in range(right,left-1,-1):\n",
        "   matrix[bottom][i]=chr(ch)\n",
        "   ch+=1\n",
        "   '''if ch>90:\n",
        "       ch=65'''\n",
        "  bottom-=1\n",
        "  for i in range(bottom,top-1,-1):\n",
        "   matrix[i][left]=chr(ch)\n",
        "   ch+=1\n",
        "   '''if ch>90:\n",
        "       ch=65'''\n",
        "  left+=1\n",
        "for row in matrix:\n",
        "  for val in row:\n",
        "    print(f\"{val:2}\",end=' ')\n",
        "  print()"
      ]
    }
  ]
}